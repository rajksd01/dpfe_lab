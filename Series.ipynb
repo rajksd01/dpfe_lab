{
 "cells": [
  {
   "cell_type": "code",
   "execution_count": 1,
   "id": "9b3716fe-cbcf-4163-bf4e-42031fd54b69",
   "metadata": {},
   "outputs": [],
   "source": [
    "import pandas as pd"
   ]
  },
  {
   "cell_type": "code",
   "execution_count": 2,
   "id": "e3f2fd55-c15b-453c-baa9-6bd15edecf58",
   "metadata": {},
   "outputs": [],
   "source": [
    "s=pd.Series(['A',\"B\",\"C\"])"
   ]
  },
  {
   "cell_type": "code",
   "execution_count": 3,
   "id": "681f04be-8009-4b6e-a4ae-12a7bbb5f6d2",
   "metadata": {},
   "outputs": [
    {
     "data": {
      "text/plain": [
       "0    A\n",
       "1    B\n",
       "2    C\n",
       "dtype: object"
      ]
     },
     "execution_count": 3,
     "metadata": {},
     "output_type": "execute_result"
    }
   ],
   "source": [
    "s"
   ]
  },
  {
   "cell_type": "code",
   "execution_count": 9,
   "id": "6741a316-eec9-4835-9ee7-bee5c2785cea",
   "metadata": {},
   "outputs": [],
   "source": [
    "df=pd.DataFrame(['x','y','z'],columns=['Name'],index=[100,200,300])"
   ]
  },
  {
   "cell_type": "code",
   "execution_count": 10,
   "id": "3371b59c-5990-4072-a34b-2b90dae29645",
   "metadata": {},
   "outputs": [
    {
     "data": {
      "text/html": [
       "<div>\n",
       "<style scoped>\n",
       "    .dataframe tbody tr th:only-of-type {\n",
       "        vertical-align: middle;\n",
       "    }\n",
       "\n",
       "    .dataframe tbody tr th {\n",
       "        vertical-align: top;\n",
       "    }\n",
       "\n",
       "    .dataframe thead th {\n",
       "        text-align: right;\n",
       "    }\n",
       "</style>\n",
       "<table border=\"1\" class=\"dataframe\">\n",
       "  <thead>\n",
       "    <tr style=\"text-align: right;\">\n",
       "      <th></th>\n",
       "      <th>Name</th>\n",
       "    </tr>\n",
       "  </thead>\n",
       "  <tbody>\n",
       "    <tr>\n",
       "      <th>100</th>\n",
       "      <td>x</td>\n",
       "    </tr>\n",
       "    <tr>\n",
       "      <th>200</th>\n",
       "      <td>y</td>\n",
       "    </tr>\n",
       "    <tr>\n",
       "      <th>300</th>\n",
       "      <td>z</td>\n",
       "    </tr>\n",
       "  </tbody>\n",
       "</table>\n",
       "</div>"
      ],
      "text/plain": [
       "    Name\n",
       "100    x\n",
       "200    y\n",
       "300    z"
      ]
     },
     "execution_count": 10,
     "metadata": {},
     "output_type": "execute_result"
    }
   ],
   "source": [
    "df"
   ]
  },
  {
   "cell_type": "code",
   "execution_count": 12,
   "id": "33d346be-cde5-4b8e-a42c-adc6f7def3e8",
   "metadata": {},
   "outputs": [],
   "source": [
    "import numpy as np"
   ]
  },
  {
   "cell_type": "code",
   "execution_count": 13,
   "id": "6c5f5cd8-763b-4021-a8a1-9f6b46a90259",
   "metadata": {},
   "outputs": [],
   "source": [
    "from numpy import random"
   ]
  },
  {
   "cell_type": "code",
   "execution_count": 18,
   "id": "b4ad8151-a73c-4ee0-aa8e-b2aa73103050",
   "metadata": {},
   "outputs": [],
   "source": [
    "d=pd.DataFrame(np.random.randn(3,4),columns=['col1','col2','col3','col4'])"
   ]
  },
  {
   "cell_type": "code",
   "execution_count": 19,
   "id": "d344881f-61b8-4f03-a3a4-0d4647deecff",
   "metadata": {},
   "outputs": [
    {
     "data": {
      "text/html": [
       "<div>\n",
       "<style scoped>\n",
       "    .dataframe tbody tr th:only-of-type {\n",
       "        vertical-align: middle;\n",
       "    }\n",
       "\n",
       "    .dataframe tbody tr th {\n",
       "        vertical-align: top;\n",
       "    }\n",
       "\n",
       "    .dataframe thead th {\n",
       "        text-align: right;\n",
       "    }\n",
       "</style>\n",
       "<table border=\"1\" class=\"dataframe\">\n",
       "  <thead>\n",
       "    <tr style=\"text-align: right;\">\n",
       "      <th></th>\n",
       "      <th>col1</th>\n",
       "      <th>col2</th>\n",
       "      <th>col3</th>\n",
       "      <th>col4</th>\n",
       "    </tr>\n",
       "  </thead>\n",
       "  <tbody>\n",
       "    <tr>\n",
       "      <th>0</th>\n",
       "      <td>-0.723332</td>\n",
       "      <td>-0.107680</td>\n",
       "      <td>2.374937</td>\n",
       "      <td>-0.263194</td>\n",
       "    </tr>\n",
       "    <tr>\n",
       "      <th>1</th>\n",
       "      <td>0.099252</td>\n",
       "      <td>-1.029503</td>\n",
       "      <td>0.506332</td>\n",
       "      <td>-0.383734</td>\n",
       "    </tr>\n",
       "    <tr>\n",
       "      <th>2</th>\n",
       "      <td>-0.102957</td>\n",
       "      <td>-2.016401</td>\n",
       "      <td>0.889974</td>\n",
       "      <td>1.853389</td>\n",
       "    </tr>\n",
       "  </tbody>\n",
       "</table>\n",
       "</div>"
      ],
      "text/plain": [
       "       col1      col2      col3      col4\n",
       "0 -0.723332 -0.107680  2.374937 -0.263194\n",
       "1  0.099252 -1.029503  0.506332 -0.383734\n",
       "2 -0.102957 -2.016401  0.889974  1.853389"
      ]
     },
     "execution_count": 19,
     "metadata": {},
     "output_type": "execute_result"
    }
   ],
   "source": [
    "d"
   ]
  },
  {
   "cell_type": "code",
   "execution_count": null,
   "id": "e3595b4d-09ba-45ac-8926-756583403c61",
   "metadata": {},
   "outputs": [],
   "source": [
    "#access\n",
    "loc[]\n",
    "iloc[]"
   ]
  },
  {
   "cell_type": "code",
   "execution_count": 27,
   "id": "4ca1b438-ef3e-4be8-aaa6-3c0bff9e7b3a",
   "metadata": {},
   "outputs": [
    {
     "data": {
      "text/plain": [
       "col1   -0.102957\n",
       "col2   -2.016401\n",
       "col3    0.889974\n",
       "col4    1.853389\n",
       "Name: 2, dtype: float64"
      ]
     },
     "execution_count": 27,
     "metadata": {},
     "output_type": "execute_result"
    }
   ],
   "source": [
    "d.loc[2]#"
   ]
  },
  {
   "cell_type": "code",
   "execution_count": 28,
   "id": "5052475f-1c74-49bf-8b67-80c800aa95ed",
   "metadata": {},
   "outputs": [
    {
     "data": {
      "text/plain": [
       "col1   -0.102957\n",
       "col2   -2.016401\n",
       "col3    0.889974\n",
       "col4    1.853389\n",
       "Name: 2, dtype: float64"
      ]
     },
     "execution_count": 28,
     "metadata": {},
     "output_type": "execute_result"
    }
   ],
   "source": [
    "x"
   ]
  },
  {
   "cell_type": "code",
   "execution_count": 30,
   "id": "56f1ea35-f429-4280-b75e-e3d9a9d82ea5",
   "metadata": {},
   "outputs": [],
   "source": [
    "y=d.iloc[2]"
   ]
  },
  {
   "cell_type": "code",
   "execution_count": 31,
   "id": "c06efa7c-062d-419e-bddc-1edec903eda3",
   "metadata": {},
   "outputs": [
    {
     "data": {
      "text/plain": [
       "col1   -0.102957\n",
       "col2   -2.016401\n",
       "col3    0.889974\n",
       "col4    1.853389\n",
       "Name: 2, dtype: float64"
      ]
     },
     "execution_count": 31,
     "metadata": {},
     "output_type": "execute_result"
    }
   ],
   "source": [
    "y"
   ]
  },
  {
   "cell_type": "code",
   "execution_count": 34,
   "id": "db706141-4218-4940-b53f-8a7fc7b984aa",
   "metadata": {},
   "outputs": [],
   "source": [
    "d['col4']=d['col1']+d['col2']"
   ]
  },
  {
   "cell_type": "code",
   "execution_count": 35,
   "id": "8094dca2-ee5a-4aa1-842e-0ac5c397016c",
   "metadata": {},
   "outputs": [
    {
     "data": {
      "text/html": [
       "<div>\n",
       "<style scoped>\n",
       "    .dataframe tbody tr th:only-of-type {\n",
       "        vertical-align: middle;\n",
       "    }\n",
       "\n",
       "    .dataframe tbody tr th {\n",
       "        vertical-align: top;\n",
       "    }\n",
       "\n",
       "    .dataframe thead th {\n",
       "        text-align: right;\n",
       "    }\n",
       "</style>\n",
       "<table border=\"1\" class=\"dataframe\">\n",
       "  <thead>\n",
       "    <tr style=\"text-align: right;\">\n",
       "      <th></th>\n",
       "      <th>col1</th>\n",
       "      <th>col2</th>\n",
       "      <th>col3</th>\n",
       "      <th>col4</th>\n",
       "    </tr>\n",
       "  </thead>\n",
       "  <tbody>\n",
       "    <tr>\n",
       "      <th>0</th>\n",
       "      <td>-0.723332</td>\n",
       "      <td>-0.107680</td>\n",
       "      <td>2.374937</td>\n",
       "      <td>-0.831013</td>\n",
       "    </tr>\n",
       "    <tr>\n",
       "      <th>1</th>\n",
       "      <td>0.099252</td>\n",
       "      <td>-1.029503</td>\n",
       "      <td>0.506332</td>\n",
       "      <td>-0.930251</td>\n",
       "    </tr>\n",
       "    <tr>\n",
       "      <th>2</th>\n",
       "      <td>-0.102957</td>\n",
       "      <td>-2.016401</td>\n",
       "      <td>0.889974</td>\n",
       "      <td>-2.119358</td>\n",
       "    </tr>\n",
       "  </tbody>\n",
       "</table>\n",
       "</div>"
      ],
      "text/plain": [
       "       col1      col2      col3      col4\n",
       "0 -0.723332 -0.107680  2.374937 -0.831013\n",
       "1  0.099252 -1.029503  0.506332 -0.930251\n",
       "2 -0.102957 -2.016401  0.889974 -2.119358"
      ]
     },
     "execution_count": 35,
     "metadata": {},
     "output_type": "execute_result"
    }
   ],
   "source": [
    "d"
   ]
  },
  {
   "cell_type": "code",
   "execution_count": 36,
   "id": "c5cfb16a-5cf2-48e5-8319-3d5fd7562b58",
   "metadata": {},
   "outputs": [
    {
     "data": {
      "text/plain": [
       "(3, 4)"
      ]
     },
     "execution_count": 36,
     "metadata": {},
     "output_type": "execute_result"
    }
   ],
   "source": [
    "d.shape"
   ]
  },
  {
   "cell_type": "code",
   "execution_count": 37,
   "id": "75458da0-196c-4568-89f6-a64f1a59ddc0",
   "metadata": {},
   "outputs": [
    {
     "data": {
      "text/plain": [
       "12"
      ]
     },
     "execution_count": 37,
     "metadata": {},
     "output_type": "execute_result"
    }
   ],
   "source": [
    "d.size"
   ]
  },
  {
   "cell_type": "code",
   "execution_count": 38,
   "id": "196eaa9a-1f05-4089-b3dc-bc6151424b3c",
   "metadata": {},
   "outputs": [
    {
     "data": {
      "text/plain": [
       "pandas.core.frame.DataFrame"
      ]
     },
     "execution_count": 38,
     "metadata": {},
     "output_type": "execute_result"
    }
   ],
   "source": [
    "type(d)"
   ]
  },
  {
   "cell_type": "code",
   "execution_count": null,
   "id": "93a8a74d-8aaa-48b3-b213-3a633948f4eb",
   "metadata": {},
   "outputs": [],
   "source": [
    "type(d['col1'])"
   ]
  },
  {
   "cell_type": "code",
   "execution_count": 42,
   "id": "d93b0b8b-d0cb-4c2f-8e74-3442a88eb266",
   "metadata": {},
   "outputs": [],
   "source": [
    "data=pd.read_excel(\"Stressdataset.xlsx\")"
   ]
  },
  {
   "cell_type": "code",
   "execution_count": 43,
   "id": "fb52d10d-d953-4d8a-9068-c5c61fd657e4",
   "metadata": {},
   "outputs": [
    {
     "data": {
      "text/html": [
       "<div>\n",
       "<style scoped>\n",
       "    .dataframe tbody tr th:only-of-type {\n",
       "        vertical-align: middle;\n",
       "    }\n",
       "\n",
       "    .dataframe tbody tr th {\n",
       "        vertical-align: top;\n",
       "    }\n",
       "\n",
       "    .dataframe thead th {\n",
       "        text-align: right;\n",
       "    }\n",
       "</style>\n",
       "<table border=\"1\" class=\"dataframe\">\n",
       "  <thead>\n",
       "    <tr style=\"text-align: right;\">\n",
       "      <th></th>\n",
       "      <th>s.no</th>\n",
       "      <th>name</th>\n",
       "      <th>age</th>\n",
       "      <th>traditional educational approaches</th>\n",
       "      <th>Stress of exam</th>\n",
       "    </tr>\n",
       "  </thead>\n",
       "  <tbody>\n",
       "    <tr>\n",
       "      <th>0</th>\n",
       "      <td>1</td>\n",
       "      <td>puneet</td>\n",
       "      <td>25</td>\n",
       "      <td>1</td>\n",
       "      <td>1</td>\n",
       "    </tr>\n",
       "  </tbody>\n",
       "</table>\n",
       "</div>"
      ],
      "text/plain": [
       "   s.no    name  age  traditional educational approaches   Stress of exam\n",
       "0     1  puneet   25                                    1               1"
      ]
     },
     "execution_count": 43,
     "metadata": {},
     "output_type": "execute_result"
    }
   ],
   "source": [
    "data"
   ]
  },
  {
   "cell_type": "code",
   "execution_count": null,
   "id": "7bd6d185-c770-4b88-8a26-08ef5a485edd",
   "metadata": {},
   "outputs": [],
   "source": []
  }
 ],
 "metadata": {
  "kernelspec": {
   "display_name": "Python 3 (ipykernel)",
   "language": "python",
   "name": "python3"
  },
  "language_info": {
   "codemirror_mode": {
    "name": "ipython",
    "version": 3
   },
   "file_extension": ".py",
   "mimetype": "text/x-python",
   "name": "python",
   "nbconvert_exporter": "python",
   "pygments_lexer": "ipython3",
   "version": "3.9.12"
  }
 },
 "nbformat": 4,
 "nbformat_minor": 5
}
