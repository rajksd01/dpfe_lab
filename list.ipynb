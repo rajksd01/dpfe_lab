{
 "cells": [
  {
   "cell_type": "markdown",
   "id": "4fd95a1c-8386-4a40-876b-338492da67a9",
   "metadata": {},
   "source": [
    "list \n",
    "tuple\n",
    "dictionary \n",
    "set"
   ]
  },
  {
   "cell_type": "code",
   "execution_count": 29,
   "id": "dc0a8262-3047-4ba9-b57d-84e7fac3a3f1",
   "metadata": {},
   "outputs": [
    {
     "name": "stdout",
     "output_type": "stream",
     "text": [
      "[100, 200, 300, 400, 500] <class 'list'>\n",
      "length= 5\n",
      "100\n",
      "200\n",
      "300\n",
      "400\n",
      "500\n",
      "100\n",
      "200\n",
      "300\n",
      "400\n",
      "500\n",
      "[100, 200, 300, 400, 500, 30]\n",
      "[100, 200, 300, 400, 30]\n",
      "[200, 300, 400, 30]\n",
      "[200, 300, 400]\n"
     ]
    }
   ],
   "source": [
    "#list-mutable, ordered allows duplicacy\n",
    "var=[100,200,300,400,500]\n",
    "var2=[]\n",
    "print(var,type(var))\n",
    "#acess\n",
    "#1)indexing\n",
    "var[1]\n",
    "print(\"length=\",len(var))\n",
    "#negative\n",
    "var[-1]\n",
    "#var[start:end-1:step]\n",
    "var[2:4:2]\n",
    "var[-5:-2:2]\n",
    "var[-1::-1]\n",
    "#for loop\n",
    "for i in var:\n",
    "    print(i)\n",
    "for i in range(0,len(var)):\n",
    "    print(var[i])\n",
    "#\n",
    "var.append(30)# inserts at last\n",
    "print(var)\n",
    "var.pop(4)\n",
    "print(var)\n",
    "var.remove(100)\n",
    "print(var)\n",
    "del var[3]\n",
    "print(var)"
   ]
  },
  {
   "cell_type": "code",
   "execution_count": null,
   "id": "5cd0cf04-77bb-4c67-a9cf-2a8ca39c4093",
   "metadata": {},
   "outputs": [],
   "source": [
    " def len(list)"
   ]
  }
 ],
 "metadata": {
  "kernelspec": {
   "display_name": "Python 3 (ipykernel)",
   "language": "python",
   "name": "python3"
  },
  "language_info": {
   "codemirror_mode": {
    "name": "ipython",
    "version": 3
   },
   "file_extension": ".py",
   "mimetype": "text/x-python",
   "name": "python",
   "nbconvert_exporter": "python",
   "pygments_lexer": "ipython3",
   "version": "3.9.12"
  }
 },
 "nbformat": 4,
 "nbformat_minor": 5
}
