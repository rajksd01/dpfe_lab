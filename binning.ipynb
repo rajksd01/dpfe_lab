{
 "cells": [
  {
   "cell_type": "code",
   "execution_count": 1,
   "id": "1e9d347a",
   "metadata": {},
   "outputs": [],
   "source": [
    "#importing libraries\n",
    "import pandas as pd\n",
    "import numpy as np\n"
   ]
  },
  {
   "cell_type": "code",
   "execution_count": 19,
   "id": "39978547",
   "metadata": {},
   "outputs": [],
   "source": [
    "#creaing databin\n",
    "age = [3,4,5,6,7,8,1012,18,15,23,45,67,98,9]"
   ]
  },
  {
   "cell_type": "code",
   "execution_count": 20,
   "id": "65f24499",
   "metadata": {},
   "outputs": [],
   "source": [
    "# defining function for binning that has max and min value from the data\n",
    "def binning(data):\n",
    "    max_value=max(data) # gives the max value from the data\n",
    "    min_value=min(data) # gives the min value from the data\n",
    "    print(max_value,min_value)\n",
    "    #child,teen,adult,old are the bins \n",
    "    child=[]\n",
    "    teen=[]\n",
    "    adult=[]\n",
    "    old=[]\n",
    "    for i in data:\n",
    "        if i<=12:\n",
    "            child.append(i)\n",
    "        elif i >12 and i<=20:\n",
    "            teen.append(i)\n",
    "        elif i>20 and i<=45:\n",
    "            adult.append(i)\n",
    "        elif i>45:\n",
    "            old.append(i)\n",
    "    print(\"Bin of Child =  \",child)   \n",
    "    print(\"Bin of Teen =  \",teen)\n",
    "    print(\"Bin of Adult =  \",adult)\n",
    "    print(\"Bin of old =  \",old)"
   ]
  },
  {
   "cell_type": "code",
   "execution_count": 21,
   "id": "f62723e7",
   "metadata": {},
   "outputs": [
    {
     "name": "stdout",
     "output_type": "stream",
     "text": [
      "1012 3\n",
      "Bin of Child =   [3, 4, 5, 6, 7, 8, 9]\n",
      "Bin of Teen =   [18, 15]\n",
      "Bin of Adult =   [23, 45]\n",
      "Bin of old =   [1012, 67, 98]\n"
     ]
    }
   ],
   "source": [
    "#executing the function \n",
    "binning(age)"
   ]
  },
  {
   "cell_type": "code",
   "execution_count": null,
   "id": "4682c6fc",
   "metadata": {},
   "outputs": [],
   "source": []
  }
 ],
 "metadata": {
  "kernelspec": {
   "display_name": "Python 3 (ipykernel)",
   "language": "python",
   "name": "python3"
  },
  "language_info": {
   "codemirror_mode": {
    "name": "ipython",
    "version": 3
   },
   "file_extension": ".py",
   "mimetype": "text/x-python",
   "name": "python",
   "nbconvert_exporter": "python",
   "pygments_lexer": "ipython3",
   "version": "3.9.12"
  }
 },
 "nbformat": 4,
 "nbformat_minor": 5
}
